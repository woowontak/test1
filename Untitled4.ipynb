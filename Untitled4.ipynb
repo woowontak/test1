{
  "nbformat": 4,
  "nbformat_minor": 0,
  "metadata": {
    "colab": {
      "name": "Untitled4.ipynb",
      "provenance": [],
      "collapsed_sections": []
    },
    "kernelspec": {
      "name": "python3",
      "display_name": "Python 3"
    },
    "language_info": {
      "name": "python"
    }
  },
  "cells": [
    {
      "cell_type": "code",
      "source": [
        "\n",
        "\n",
        "def get_max():\n",
        " lt_num = [10,40,23,33,29,37]\n",
        " max=0\n",
        "\n",
        " for i in lt_num:\n",
        "   if max < i:\n",
        "     max = i\n",
        " print(max)\n",
        "\n",
        "get_max()\n",
        "\n",
        "\n"
      ],
      "metadata": {
        "colab": {
          "base_uri": "https://localhost:8080/"
        },
        "id": "arfvRH4u55vv",
        "outputId": "429fdbce-148e-4c5f-93a5-005895ba8d75"
      },
      "execution_count": 1,
      "outputs": [
        {
          "output_type": "stream",
          "name": "stdout",
          "text": [
            "40\n"
          ]
        }
      ]
    },
    {
      "cell_type": "code",
      "source": [
        ""
      ],
      "metadata": {
        "id": "uGeH9HY_y3Mt"
      },
      "execution_count": null,
      "outputs": []
    }
  ]
}